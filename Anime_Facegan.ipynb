{
  "cells": [
    {
      "cell_type": "markdown",
      "metadata": {
        "id": "Kh9gkBGo2nUT"
      },
      "source": [
        "Interactive Demo for AnimeGANv2:FacePortraitv2 created by @xhlulu\n",
        "\n",
        "Learn more about the model here: https://github.com/bryandlee/animegan2-pytorch\n",
        "\n",
        "To start using this, run the cells with `Ctrl+F9` or \"Runtime > Run All\"\n",
        "\n",
        "For accelerated inference, you can use a GPU. Simply select \"Runtime > Change runtime type\" and select \"GPU\" in the \"Hardware Acceleration\" dropdown.\n"
      ]
    },
    {
      "cell_type": "code",
      "execution_count": 7,
      "metadata": {
        "colab": {
          "base_uri": "https://localhost:8080/",
          "height": 84,
          "referenced_widgets": [
            "83d8061a61a14465a93482f8e72ce774",
            "ab69b3cbbc0242fb9df0e5ab78bd15e8",
            "7a5a6db77d2649b0964a981bca867a59",
            "8c6f3d16754846fdb40cb2c22e4327da",
            "d6e8a83dd5504d6f857fd998a9c49720"
          ]
        },
        "id": "VSdphHwYzwkY",
        "outputId": "b68fc4ec-a9b5-46db-a47b-6685bdc69201"
      },
      "outputs": [
        {
          "output_type": "stream",
          "name": "stderr",
          "text": [
            "Using cache found in /root/.cache/torch/hub/bryandlee_animegan2-pytorch_main\n",
            "Using cache found in /root/.cache/torch/hub/bryandlee_animegan2-pytorch_main\n"
          ]
        },
        {
          "output_type": "display_data",
          "data": {
            "application/vnd.jupyter.widget-view+json": {
              "model_id": "83d8061a61a14465a93482f8e72ce774",
              "version_minor": 0,
              "version_major": 2
            },
            "text/plain": [
              "Button(description='Start', style=ButtonStyle())"
            ]
          },
          "metadata": {}
        },
        {
          "output_type": "display_data",
          "data": {
            "application/vnd.jupyter.widget-view+json": {
              "model_id": "8c6f3d16754846fdb40cb2c22e4327da",
              "version_minor": 0,
              "version_major": 2
            },
            "text/plain": [
              "Output()"
            ]
          },
          "metadata": {}
        }
      ],
      "source": [
        "#@title Anime FaceGAN Colab app\n",
        "\n",
        "from io import BytesIO\n",
        "import torch\n",
        "from PIL import Image\n",
        "\n",
        "import ipywidgets as widgets\n",
        "import IPython.display as display\n",
        "from google.colab import files\n",
        "\n",
        "device = \"cuda\" if torch.cuda.is_available() else \"cpu\"\n",
        "model = torch.hub.load(\"bryandlee/animegan2-pytorch:main\", \"generator\", device=device).eval()\n",
        "face2paint = torch.hub.load(\"bryandlee/animegan2-pytorch:main\", \"face2paint\", device=device)\n",
        "image_format = \"png\" #@param [\"jpeg\", \"png\"]\n",
        "\n",
        "button = widgets.Button(description=\"Start\")\n",
        "output = widgets.Output()\n",
        "\n",
        "\n",
        "def run(b):\n",
        "    button.disabled = True\n",
        "\n",
        "    with output:\n",
        "        display.clear_output()\n",
        "    \n",
        "    uploaded = files.upload()\n",
        "\n",
        "    for fname in uploaded:\n",
        "        bytes_in = uploaded[fname]\n",
        "\n",
        "        im_in = Image.open(BytesIO(bytes_in)).convert(\"RGB\")\n",
        "        im_out = face2paint(model, im_in, side_by_side=False)\n",
        "        buffer_out = BytesIO()\n",
        "        im_out.save(buffer_out, format=image_format)\n",
        "        bytes_out = buffer_out.getvalue()\n",
        "        wi1 = widgets.Image(value=bytes_in, format=image_format)\n",
        "        wi2 = widgets.Image(value=bytes_out, format=image_format)\n",
        "        wi1.layout.max_width = '500px'\n",
        "        wi1.layout.max_height = '500px'\n",
        "        wi2.layout.max_width = '500px'\n",
        "        wi2.layout.max_height = '500px'\n",
        "\n",
        "        ## Side by side thanks to HBox widgets\n",
        "        sidebyside = widgets.HBox([wi1, wi2])\n",
        "        ## Finally, show.\n",
        "        with output:\n",
        "            display.display(sidebyside)\n",
        "    \n",
        "    button.disabled = False\n",
        "\n",
        "button.on_click(run)\n",
        "display.display(button, output)"
      ]
    }
  ],
  "metadata": {
    "colab": {
      "collapsed_sections": [],
      "name": "Anime Facegan.ipynb",
      "provenance": []
    },
    "kernelspec": {
      "display_name": "Python 3 (ipykernel)",
      "language": "python",
      "name": "python3"
    },
    "language_info": {
      "codemirror_mode": {
        "name": "ipython",
        "version": 3
      },
      "file_extension": ".py",
      "mimetype": "text/x-python",
      "name": "python",
      "nbconvert_exporter": "python",
      "pygments_lexer": "ipython3",
      "version": "3.8.10"
    },
    "widgets": {
      "application/vnd.jupyter.widget-state+json": {
        "83d8061a61a14465a93482f8e72ce774": {
          "model_module": "@jupyter-widgets/controls",
          "model_name": "ButtonModel",
          "model_module_version": "1.5.0",
          "state": {
            "_view_name": "ButtonView",
            "style": "IPY_MODEL_ab69b3cbbc0242fb9df0e5ab78bd15e8",
            "_dom_classes": [],
            "description": "Start",
            "_model_name": "ButtonModel",
            "button_style": "",
            "_view_module": "@jupyter-widgets/controls",
            "_model_module_version": "1.5.0",
            "tooltip": "",
            "_view_count": null,
            "disabled": false,
            "_view_module_version": "1.5.0",
            "layout": "IPY_MODEL_7a5a6db77d2649b0964a981bca867a59",
            "_model_module": "@jupyter-widgets/controls",
            "icon": ""
          }
        },
        "ab69b3cbbc0242fb9df0e5ab78bd15e8": {
          "model_module": "@jupyter-widgets/controls",
          "model_name": "ButtonStyleModel",
          "model_module_version": "1.5.0",
          "state": {
            "_view_name": "StyleView",
            "_model_name": "ButtonStyleModel",
            "_view_module": "@jupyter-widgets/base",
            "_model_module_version": "1.5.0",
            "_view_count": null,
            "button_color": null,
            "font_weight": "",
            "_view_module_version": "1.2.0",
            "_model_module": "@jupyter-widgets/controls"
          }
        },
        "7a5a6db77d2649b0964a981bca867a59": {
          "model_module": "@jupyter-widgets/base",
          "model_name": "LayoutModel",
          "model_module_version": "1.2.0",
          "state": {
            "_view_name": "LayoutView",
            "grid_template_rows": null,
            "right": null,
            "justify_content": null,
            "_view_module": "@jupyter-widgets/base",
            "overflow": null,
            "_model_module_version": "1.2.0",
            "_view_count": null,
            "flex_flow": null,
            "width": null,
            "min_width": null,
            "border": null,
            "align_items": null,
            "bottom": null,
            "_model_module": "@jupyter-widgets/base",
            "top": null,
            "grid_column": null,
            "overflow_y": null,
            "overflow_x": null,
            "grid_auto_flow": null,
            "grid_area": null,
            "grid_template_columns": null,
            "flex": null,
            "_model_name": "LayoutModel",
            "justify_items": null,
            "grid_row": null,
            "max_height": null,
            "align_content": null,
            "visibility": null,
            "align_self": null,
            "height": null,
            "min_height": null,
            "padding": null,
            "grid_auto_rows": null,
            "grid_gap": null,
            "max_width": null,
            "order": null,
            "_view_module_version": "1.2.0",
            "grid_template_areas": null,
            "object_position": null,
            "object_fit": null,
            "grid_auto_columns": null,
            "margin": null,
            "display": null,
            "left": null
          }
        },
        "8c6f3d16754846fdb40cb2c22e4327da": {
          "model_module": "@jupyter-widgets/output",
          "model_name": "OutputModel",
          "model_module_version": "1.0.0",
          "state": {
            "_view_name": "OutputView",
            "msg_id": "",
            "_dom_classes": [],
            "_model_name": "OutputModel",
            "outputs": [],
            "_view_module": "@jupyter-widgets/output",
            "_model_module_version": "1.0.0",
            "_view_count": null,
            "_view_module_version": "1.0.0",
            "layout": "IPY_MODEL_d6e8a83dd5504d6f857fd998a9c49720",
            "_model_module": "@jupyter-widgets/output"
          }
        },
        "d6e8a83dd5504d6f857fd998a9c49720": {
          "model_module": "@jupyter-widgets/base",
          "model_name": "LayoutModel",
          "model_module_version": "1.2.0",
          "state": {
            "_view_name": "LayoutView",
            "grid_template_rows": null,
            "right": null,
            "justify_content": null,
            "_view_module": "@jupyter-widgets/base",
            "overflow": null,
            "_model_module_version": "1.2.0",
            "_view_count": null,
            "flex_flow": null,
            "width": null,
            "min_width": null,
            "border": null,
            "align_items": null,
            "bottom": null,
            "_model_module": "@jupyter-widgets/base",
            "top": null,
            "grid_column": null,
            "overflow_y": null,
            "overflow_x": null,
            "grid_auto_flow": null,
            "grid_area": null,
            "grid_template_columns": null,
            "flex": null,
            "_model_name": "LayoutModel",
            "justify_items": null,
            "grid_row": null,
            "max_height": null,
            "align_content": null,
            "visibility": null,
            "align_self": null,
            "height": null,
            "min_height": null,
            "padding": null,
            "grid_auto_rows": null,
            "grid_gap": null,
            "max_width": null,
            "order": null,
            "_view_module_version": "1.2.0",
            "grid_template_areas": null,
            "object_position": null,
            "object_fit": null,
            "grid_auto_columns": null,
            "margin": null,
            "display": null,
            "left": null
          }
        }
      }
    }
  },
  "nbformat": 4,
  "nbformat_minor": 0
}